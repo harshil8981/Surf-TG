{
  "cells": [
    {
      "cell_type": "markdown",
      "metadata": {
        "id": "view-in-github",
        "colab_type": "text"
      },
      "source": [
        "<a href=\"https://colab.research.google.com/github/harshil8981/Surf-TG/blob/main/Surf_TG.ipynb\" target=\"_parent\"><img src=\"https://colab.research.google.com/assets/colab-badge.svg\" alt=\"Open In Colab\"/></a>"
      ]
    },
    {
      "cell_type": "markdown",
      "metadata": {
        "id": "M9ZEtgSusbyn"
      },
      "source": [
        "<h1>𝙎𝙪𝙧𝙛-𝙏𝙂 𝙃𝙀𝙍𝙊𝙆𝙐</h1>\n",
        "\n",
        "<center><img src='https://i.ibb.co/vH9vHy9/Mr-Killer-Developer.png'  height=\"120\" width=\"400\" alt=\"Surf-TG-logo\"/></center>\n",
        "\n",
        "---\n",
        "\n",
        "### ***Collab Repository Details***\n",
        "- 🔗 **Repo :** https://github.com/harshil8981/Surf-TG\n",
        "- 🤖 **Version :** _v1.0_\n",
        "- ☢️ **Colab Version :** _v1.0_\n",
        "\n",
        "---\n",
        "### ***Deploy Surf-TG in Heroku using Google Colab***"
      ]
    },
    {
      "cell_type": "code",
      "execution_count": 1,
      "metadata": {
        "cellView": "form",
        "colab": {
          "base_uri": "https://localhost:8080/",
          "height": 60
        },
        "id": "2zKX2QmIslAl",
        "outputId": "90235e24-5957-4616-8326-8fdc3d62f0f4"
      },
      "outputs": [
        {
          "output_type": "display_data",
          "data": {
            "text/plain": [
              "<IPython.core.display.HTML object>"
            ],
            "text/html": [
              "<marquee><b>Heroku CLI Installed !</b></marquee>"
            ]
          },
          "metadata": {}
        },
        {
          "output_type": "display_data",
          "data": {
            "text/plain": [
              "<IPython.core.display.HTML object>"
            ],
            "text/html": [
              "<marquee><b>Heroku Email & Password Loaded!</b></marquee>"
            ]
          },
          "metadata": {}
        }
      ],
      "source": [
        "#@title <center><h3>***Heroku Login***</h3></center><br>\n",
        "\n",
        "#@markdown ---\n",
        "\n",
        "Heroku_Email = \"ndbepmp813@miytc.com\" #@param {type:\"string\"}\n",
        "Heroku_API = \"HRKU-b25ab159-d2c2-4a3e-b9fb-3ad85c633c96\" #@param {type:\"string\"}\n",
        "#@markdown <h6>( <b>Note:</b> <i>Use your Personal API Token</i> )</h6>\n",
        "\n",
        "#@markdown ---\n",
        "\n",
        "!curl -s https://cli-assets.heroku.com/install.sh | sh\n",
        "\n",
        "from IPython.display import HTML, clear_output, display\n",
        "clear_output()\n",
        "display(HTML(\"<marquee><b>Heroku CLI Installed !</b></marquee>\"))\n",
        "\n",
        "if not all([Heroku_Email, Heroku_API]):\n",
        "    raise ValueError(\"Please fill in all Mandatory Variables.\")\n",
        "\n",
        "from os import path as ospath, chmod\n",
        "\n",
        "netrc_path = ospath.expanduser(\"~/.netrc\")\n",
        "\n",
        "netrc_creds = f'''machine api.heroku.com\n",
        "  login {Heroku_Email}\n",
        "  password {Heroku_API}\n",
        "machine git.heroku.com\n",
        "  login {Heroku_Email}\n",
        "  password {Heroku_API}'''\n",
        "with open(netrc_path, \"w\") as netrc_file:\n",
        "    netrc_file.write(netrc_creds)\n",
        "\n",
        "chmod(netrc_path, 0o600)\n",
        "\n",
        "!git config --global user.email {Heroku_Email}\n",
        "!git config --global user.name \"WZML-X\"\n",
        "\n",
        "display(HTML(\"<marquee><b>Heroku Email & Password Loaded!</b></marquee>\"))"
      ]
    },
    {
      "cell_type": "code",
      "execution_count": 2,
      "metadata": {
        "cellView": "form",
        "colab": {
          "base_uri": "https://localhost:8080/"
        },
        "id": "Ys2IzERcspsG",
        "outputId": "539c7529-3bf5-47b2-8177-5904aa565c0f"
      },
      "outputs": [
        {
          "output_type": "stream",
          "name": "stdout",
          "text": [
            "\u001b[G\u001b[2K\u001b[?25lCreating app... \u001b[35m⣾\u001b[39m \n",
            "\u001b[1A\u001b[16C\u001b[35m⣽\u001b[39m\u001b[1B\u001b[G\u001b[2K\u001b[1A\u001b[16C\u001b[35m⣻\u001b[39m\u001b[1B\u001b[G\u001b[2K\u001b[1A\u001b[16C\u001b[35m⢿\u001b[39m\u001b[1B\u001b[G\u001b[2K\u001b[1A\u001b[16C\u001b[35m⡿\u001b[39m\u001b[1B\u001b[G\u001b[2K\u001b[1A\u001b[16C\u001b[35m⣟\u001b[39m\u001b[1B\u001b[G\u001b[2K\u001b[1A\u001b[JCreating app... done, \u001b[35m⬢ secure-taiga-53793\u001b[39m, region is \u001b[33mus\u001b[39m, stack is \u001b[33mcontainer\u001b[39m\n",
            "\u001b[?25h\u001b[36mhttps://secure-taiga-53793-9033ebd36ebd.herokuapp.com/\u001b[39m | \u001b[32mhttps://git.heroku.com/secure-taiga-53793.git\u001b[39m\n",
            "\u001b[?25h"
          ]
        }
      ],
      "source": [
        "#@title <center><h3>***Create Heroku App***</h3></center><br>\n",
        "\n",
        "#@markdown ---\n",
        "App_Name = \"\" #@param {type:\"string\"}\n",
        "#@markdown <h6>( <b>Note:</b> <i>App Name is Optional, skip for random name !</i> )</h6>\n",
        "Server_Region = \"us\" #@param [\"eu\", \"us\"] {allow-input: true}\n",
        "\n",
        "#@markdown ---\n",
        "\n",
        "!heroku create --region $Server_Region --stack container $App_Name"
      ]
    },
    {
      "cell_type": "code",
      "execution_count": 3,
      "metadata": {
        "colab": {
          "base_uri": "https://localhost:8080/"
        },
        "id": "-y8PYEE0s9ti",
        "outputId": "c98f6664-e73e-4571-f5d1-3ed80998c625",
        "cellView": "form"
      },
      "outputs": [
        {
          "output_type": "stream",
          "name": "stdout",
          "text": [
            "Cloning into 'Surf-TG'...\n",
            "remote: Enumerating objects: 377, done.\u001b[K\n",
            "remote: Counting objects: 100% (232/232), done.\u001b[K\n",
            "remote: Compressing objects: 100% (175/175), done.\u001b[K\n",
            "remote: Total 377 (delta 159), reused 57 (delta 57), pack-reused 145\u001b[K\n",
            "Receiving objects: 100% (377/377), 154.49 KiB | 5.94 MiB/s, done.\n",
            "Resolving deltas: 100% (231/231), done.\n",
            "/content/Surf-TG\n",
            "  % Total    % Received % Xferd  Average Speed   Time    Time     Time  Current\n",
            "                                 Dload  Upload   Total   Spent    Left  Speed\n",
            "100    14  100    14    0     0     56      0 --:--:-- --:--:-- --:--:--    56\n",
            "config.env File Extracted and Saved Successfully\n"
          ]
        }
      ],
      "source": [
        "#@title <center><h3>***Surf-TG Repo Config Setup***</h3></center><br>\n",
        "\n",
        "#@markdown\n",
        "CONF_GIST_URL = \"https://gist.githubusercontent.com/harshil8981/a43ed0c47be3f96e6c5c23176a9d2a6e/raw/09ce4dd8fb374a7f5f3b103e5fa7e5460058caea/config.env\" # @param {type:\"string\"}\n",
        "#@markdown <h6><i>(If you want to Upload `config.env` via `gist.github.com`, Provide the gist URL, Always make Private gist)</i></h6>\n",
        "\n",
        "#@markdown ---\n",
        "\n",
        "#@markdown ### ***OR***\n",
        "Upload_Config = False # @param {type:\"boolean\"}\n",
        "#@markdown <h6><i>(If you want to Upload `config.env` file Externally, Tick the Above CheckBox)</i></h6>\n",
        "\n",
        "#@markdown ---\n",
        "\n",
        "if not Upload_Config and not CONF_GIST_URL:\n",
        "    raise ValueError(\"Please fill in all Mandatory Variables.\")\n",
        "\n",
        "!git clone https://github.com/harshil8981/Surf-TG\n",
        "%cd Surf-TG\n",
        "\n",
        "if Upload_Config:\n",
        "    from google.colab import files\n",
        "    config_creds = list(files.upload().values())[0]\n",
        "    with open(\"config.env\", \"wb\") as config_file:\n",
        "        config_file.write(config_creds)\n",
        "    print(\"config.env File Uploaded and Saved Successfully\")\n",
        "elif CONF_GIST_URL:\n",
        "    !curl -o \"config.env\" $CONF_GIST_URL\n",
        "    print(\"config.env File Extracted and Saved Successfully\")"
      ]
    },
    {
      "cell_type": "code",
      "execution_count": 4,
      "metadata": {
        "cellView": "form",
        "colab": {
          "base_uri": "https://localhost:8080/"
        },
        "id": "UzdR8ne5tFiw",
        "outputId": "7968a705-0ac5-414d-9224-2bc019b63d99"
      },
      "outputs": [
        {
          "output_type": "stream",
          "name": "stdout",
          "text": [
            "[main 6784528] HK Setup\n",
            " 1 file changed, 1 insertion(+)\n",
            " create mode 100644 config.env\n",
            " \u001b[31m›\u001b[39m   Error: Couldn't find that app.\n",
            " \u001b[31m›\u001b[39m\n",
            " \u001b[31m›\u001b[39m   Error ID: not_found\n",
            "fatal: 'heroku' does not appear to be a git repository\n",
            "fatal: Could not read from remote repository.\n",
            "\n",
            "Please make sure you have the correct access rights\n",
            "and the repository exists.\n"
          ]
        }
      ],
      "source": [
        "# @title <center><h3>***Deploy Heroku App***</h3></center><br>\n",
        "\n",
        "#@markdown ---\n",
        "App_Name = \"powerful-peak-70282\" #@param {type:\"string\"}\n",
        "#@markdown ---\n",
        "\n",
        "!git add . -f\n",
        "!git commit -m \"HK Setup\"\n",
        "!heroku git:remote -a {App_Name}\n",
        "!git push heroku main -f"
      ]
    },
    {
      "cell_type": "code",
      "execution_count": 5,
      "metadata": {
        "cellView": "form",
        "id": "0GJcQ79vtJIU",
        "colab": {
          "base_uri": "https://localhost:8080/"
        },
        "outputId": "7901022a-6bda-4054-e9ca-2db472190b41"
      },
      "outputs": [
        {
          "output_type": "stream",
          "name": "stdout",
          "text": [
            " \u001b[31m›\u001b[39m   Error: Couldn't find that app.\n",
            " \u001b[31m›\u001b[39m\n",
            " \u001b[31m›\u001b[39m   Error ID: not_found\n"
          ]
        }
      ],
      "source": [
        "# @title <center><h3>***Show Heroku App Logs***</h3></center><br>\n",
        "\n",
        "#@markdown ---\n",
        "App_Name = \"powerful-peak-70282\" #@param {type:\"string\"}\n",
        "#@markdown ---\n",
        "\n",
        "!heroku logs -a {App_Name}"
      ]
    },
    {
      "cell_type": "code",
      "execution_count": 6,
      "metadata": {
        "cellView": "form",
        "id": "9a1Zdc4htMDa",
        "colab": {
          "base_uri": "https://localhost:8080/"
        },
        "outputId": "a2abe767-7e64-4f88-db28-a1309a71608b"
      },
      "outputs": [
        {
          "output_type": "stream",
          "name": "stdout",
          "text": [
            "Logging out...\n",
            "\u001b[G\u001b[1A\u001b[JLogging out... \u001b[35m⣾\u001b[39m\n",
            "\u001b[G\u001b[1A\u001b[JLogging out... \u001b[35m⣽\u001b[39m\n",
            "\u001b[G\u001b[1A\u001b[JLogging out... \u001b[35m⣻\u001b[39m\n",
            "\u001b[G\u001b[1A\u001b[JLogging out... \u001b[35m⢿\u001b[39m\n",
            "\u001b[G\u001b[1A\u001b[JLogging out... \u001b[35m⡿\u001b[39m\n",
            "\u001b[G\u001b[1A\u001b[JLogging out... \u001b[35m⣟\u001b[39m\n",
            "\u001b[G\u001b[1A\u001b[JLogging out... \u001b[35m⣯\u001b[39m\n",
            "\u001b[G\u001b[1A\u001b[JLogging out... \u001b[35m⣷\u001b[39m\n",
            "\u001b[G\u001b[1A\u001b[JLogging out... \u001b[35m⣾\u001b[39m\n",
            "\u001b[G\u001b[1A\u001b[JLogging out... done\n"
          ]
        }
      ],
      "source": [
        "#@title <center><h3>***Heroku Logout***</h3></center><br>\n",
        "\n",
        "!heroku logout"
      ]
    }
  ],
  "metadata": {
    "colab": {
      "provenance": [],
      "mount_file_id": "1DxEXNjO4rAL1yoHPAcUCz70ca-EH9TYQ",
      "authorship_tag": "ABX9TyMNXro5POIf2DyjSqhsP6GF",
      "include_colab_link": true
    },
    "kernelspec": {
      "display_name": "Python 3",
      "name": "python3"
    },
    "language_info": {
      "name": "python"
    }
  },
  "nbformat": 4,
  "nbformat_minor": 0
}